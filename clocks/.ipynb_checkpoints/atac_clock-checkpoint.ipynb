{
 "cells": [
  {
   "cell_type": "code",
   "execution_count": 1,
   "metadata": {},
   "outputs": [],
   "source": [
    "import sys\n",
    "sys.path.append(\"../scripts\")\n",
    "import numpy as np\n",
    "import pandas as pd\n",
    "import matplotlib.pyplot as plt\n",
    "from clock_utils import make_groups\n",
    "\n",
    "%load_ext autoreload\n",
    "%autoreload 2\n",
    "\n",
    "basepath = \"../data/paper_data/\"\n",
    "datapath = basepath + \"data_atac_tpm.tsv\"\n",
    "metapath = basepath + \"meta_final.tsv\""
   ]
  },
  {
   "cell_type": "code",
   "execution_count": 2,
   "metadata": {},
   "outputs": [],
   "source": [
    "# Get preprocessed data\n",
    "data = pd.read_csv(datapath, index_col=0, sep=\"\\t\")\n",
    "meta = pd.read_csv(metapath, sep=\"\\t\")\n",
    "data = data.apply(np.log1p)\n",
    "\n",
    "# Get samples passing QC and get their labels\n",
    "passing_qc = np.intersect1d(data.index, meta.loc[meta[\"LowQ_atac\"] == False, \"Subject\"])\n",
    "# passing_qc = np.intersect1d(data.index, meta.loc[meta[\"PassingQC_atac\"] == True, \"Subject\"])\n",
    "data = data.loc[passing_qc, :]\n",
    "meta = meta.set_index(\"Subject\", drop=False)\n",
    "labels = meta.loc[passing_qc, \"Age\"]\n",
    "\n",
    "groups = make_groups(11, labels)"
   ]
  },
  {
   "cell_type": "code",
   "execution_count": 6,
   "metadata": {},
   "outputs": [],
   "source": [
    "from sklearn.linear_model import ElasticNet\n",
    "from sklearn.pipeline import Pipeline\n",
    "from sklearn.preprocessing import StandardScaler\n",
    "from sklearn.feature_selection import VarianceThreshold, SelectKBest, f_regression\n",
    "\n",
    "pipes = list()\n",
    "\n",
    "# Model 1\n",
    "\n",
    "pipe = Pipeline(steps=[(\"regressor\", ElasticNet(max_iter=5000, tol=0.0005))])\n",
    "\n",
    "param_grid = dict()\n",
    "param_grid[\"regressor__alpha\"] = np.logspace(-4, 1, 30) #40\n",
    "param_grid[\"regressor__l1_ratio\"] = [0.7, 0.8, 0.9, 0.95, 0.99, 1] # Last time i ran this i didnt have 1\n",
    "# param_grid[\"regressor__alpha\"] = np.logspace(-4, 1, 10) #40\n",
    "# param_grid[\"regressor__l1_ratio\"] = [0.95]"
   ]
  },
  {
   "cell_type": "code",
   "execution_count": 7,
   "metadata": {},
   "outputs": [],
   "source": [
    "from sklearn.model_selection import LeavePGroupsOut\n",
    "\n",
    "outer_groups_out = 1\n",
    "scoring = \"neg_median_absolute_error\"\n",
    "cv_outer = LeavePGroupsOut(outer_groups_out)\n",
    "outer_split = list(cv_outer.split(data, labels, groups))"
   ]
  },
  {
   "cell_type": "code",
   "execution_count": 8,
   "metadata": {},
   "outputs": [
    {
     "name": "stdout",
     "output_type": "stream",
     "text": [
      "Shelved data\n",
      "Shelved labels\n",
      "Shelved groups\n",
      "Shelved pipe\n",
      "Shelved param_grid\n",
      "Shelved outer_split\n"
     ]
    }
   ],
   "source": [
    "import shelve, os, dbm.dumb\n",
    "from datetime import datetime\n",
    "\n",
    "date = datetime.now().strftime(\"%Y-%m-%d_%H-%M\")\n",
    "outpath = \"../clocks/parallel/\" + date\n",
    "os.makedirs(outpath, exist_ok=True)\n",
    "\n",
    "vars_to_save = [\"data\", \"labels\", \"groups\", \"pipe\", \"param_grid\", \"outer_split\"]\n",
    "\n",
    "dumbdb = dbm.dumb.open(outpath + \"/dataset\")\n",
    "dataset = shelve.Shelf(dumbdb)\n",
    "for key in vars_to_save:\n",
    "    try:\n",
    "        dataset[key] = globals()[key]\n",
    "        print('Shelved {0}'.format(key))\n",
    "    except TypeError:\n",
    "        #\n",
    "        # __builtins__, my_shelf, and imported modules can not be shelved.\n",
    "        #\n",
    "        print('ERROR shelving: {0}'.format(key))\n",
    "dataset.close()\n",
    "dumbdb.close()"
   ]
  },
  {
   "cell_type": "code",
   "execution_count": null,
   "metadata": {},
   "outputs": [],
   "source": [
    "from clock_utils import get_ncv_results, plot_ncv_results\n",
    "\n",
    "summary, preds, coefs = get_ncv_results(outpath, 11, True)\n",
    "plot_ncv_results(preds, savepath = outpath)"
   ]
  }
 ],
 "metadata": {
  "kernelspec": {
   "display_name": "Python 3 (custom)",
   "language": "python",
   "name": "condapython"
  },
  "language_info": {
   "codemirror_mode": {
    "name": "ipython",
    "version": 3
   },
   "file_extension": ".py",
   "mimetype": "text/x-python",
   "name": "python",
   "nbconvert_exporter": "python",
   "pygments_lexer": "ipython3",
   "version": "3.9.15"
  },
  "varInspector": {
   "cols": {
    "lenName": 16,
    "lenType": 16,
    "lenVar": 40
   },
   "kernels_config": {
    "python": {
     "delete_cmd_postfix": "",
     "delete_cmd_prefix": "del ",
     "library": "var_list.py",
     "varRefreshCmd": "print(var_dic_list())"
    },
    "r": {
     "delete_cmd_postfix": ") ",
     "delete_cmd_prefix": "rm(",
     "library": "var_list.r",
     "varRefreshCmd": "cat(var_dic_list()) "
    }
   },
   "oldHeight": 540.4,
   "position": {
    "height": "40px",
    "left": "1142px",
    "right": "20px",
    "top": "124px",
    "width": "350px"
   },
   "types_to_exclude": [
    "module",
    "function",
    "builtin_function_or_method",
    "instance",
    "_Feature"
   ],
   "varInspector_section_display": "none",
   "window_display": true
  }
 },
 "nbformat": 4,
 "nbformat_minor": 2
}
