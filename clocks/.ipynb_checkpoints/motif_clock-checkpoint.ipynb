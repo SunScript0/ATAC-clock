{
 "cells": [
  {
   "cell_type": "code",
   "execution_count": 1,
   "metadata": {},
   "outputs": [],
   "source": [
    "import sys\n",
    "sys.path.append(\"../scripts\")\n",
    "import numpy as np\n",
    "import pandas as pd\n",
    "import matplotlib.pyplot as plt\n",
    "from clock_utils import make_groups\n",
    "\n",
    "%load_ext autoreload\n",
    "%autoreload 2\n",
    "\n",
    "basepath = \"../data/paper_data/\""
   ]
  },
  {
   "cell_type": "code",
   "execution_count": 2,
   "metadata": {},
   "outputs": [],
   "source": [
    "# Get preprocessed data (already log scaled)\n",
    "data = pd.read_csv(basepath + \"data_atac_crct_none.tsv\", index_col=0, sep=\"\\t\")\n",
    "# data = data.apply(np.log1p)\n",
    "\n",
    "# Get meta\n",
    "meta = pd.read_csv(basepath + \"meta_final.tsv\", sep=\"\\t\")\n",
    "meta.index = meta.Subject\n",
    "meta = meta.loc[meta.PassesQC_atac, ]\n",
    "ccomp = meta[[\"Monocytes\", \"Granulocytes\", \"Lymphocytes\", \"B_Cells\", \n",
    "              \"NK_Cells\", \"T_Cells\", \"CD4_T_Cells\", \"CD8_T_Cells\"]]\n",
    "ccomp = ccomp.dropna()\n",
    "meta = meta.loc[ccomp.index, ]\n",
    "labels = meta.Age\n",
    "data = data.loc[ccomp.index, ]\n",
    "\n",
    "groups = make_groups(11, labels)"
   ]
  },
  {
   "cell_type": "code",
   "execution_count": null,
   "metadata": {},
   "outputs": [],
   "source": [
    "from sklearn.multioutput import MultiOutputRegressor\n",
    "from sklearn.linear_model import LinearRegression, RANSACRegressor\n",
    "\n",
    "# mlm = MultiOutputRegressor(LinearRegression())\n",
    "mlm = MultiOutputRegressor(RANSACRegressor())\n",
    "mlm.fit(ccomp.join(labels), data)"
   ]
  },
  {
   "cell_type": "code",
   "execution_count": 6,
   "metadata": {},
   "outputs": [],
   "source": [
    "coefs = pd.DataFrame(index = data.columns, columns= np.append(ccomp.columns.values, \"Age\"))\n",
    "for i, lm in enumerate(mlm.estimators_):\n",
    "#     coefs.iloc[i, :] = lm.coef_\n",
    "    coefs.iloc[i, :] = lm.estimator_.coef_\n",
    "ccomp_effect = ccomp.values @ coefs.iloc[:, 0:-1].T.values\n",
    "crct = data - ccomp_effect"
   ]
  },
  {
   "cell_type": "code",
   "execution_count": 8,
   "metadata": {},
   "outputs": [],
   "source": [
    "from sklearn.linear_model import ElasticNet\n",
    "from sklearn.pipeline import Pipeline\n",
    "from sklearn.preprocessing import StandardScaler\n",
    "\n",
    "pipes = list()\n",
    "\n",
    "# Model 1\n",
    "\n",
    "pipe = Pipeline(steps=[\n",
    "    (\"scaler\", StandardScaler()),\n",
    "    (\"regressor\", ElasticNet(max_iter=5000, tol=0.0005))])\n",
    "\n",
    "param_grid = dict()\n",
    "param_grid[\"regressor__alpha\"] = np.logspace(-4, 1, 30) #40\n",
    "param_grid[\"regressor__l1_ratio\"] = [0.7, 0.8, 0.9, 0.95, 0.99, 1]\n",
    "# param_grid[\"regressor__alpha\"] = np.logspace(-4, 1, 10) #40\n",
    "# param_grid[\"regressor__l1_ratio\"] = [0.95]"
   ]
  },
  {
   "cell_type": "code",
   "execution_count": 9,
   "metadata": {},
   "outputs": [],
   "source": [
    "from sklearn.model_selection import LeavePGroupsOut\n",
    "\n",
    "outer_groups_out = 1\n",
    "scoring = \"neg_median_absolute_error\"\n",
    "cv_outer = LeavePGroupsOut(outer_groups_out)\n",
    "outer_split = list(cv_outer.split(data, labels, groups))"
   ]
  },
  {
   "cell_type": "code",
   "execution_count": 10,
   "metadata": {},
   "outputs": [
    {
     "name": "stdout",
     "output_type": "stream",
     "text": [
      "Shelved data\n",
      "Shelved labels\n",
      "Shelved ccomp\n",
      "Shelved groups\n",
      "Shelved pipe\n",
      "Shelved param_grid\n",
      "Shelved outer_split\n",
      "Shelved scoring\n"
     ]
    }
   ],
   "source": [
    "import shelve, os, dbm.dumb\n",
    "from datetime import datetime\n",
    "\n",
    "date = datetime.now().strftime(\"%Y-%m-%d_%H-%M\")\n",
    "outpath = \"../clocks/parallel/\" + date + \"_ccomp_ransac_overall\"\n",
    "os.makedirs(outpath, exist_ok=True)\n",
    "\n",
    "# data = crct\n",
    "use_ransac = True\n",
    "vars_to_save = [\"data\", \"labels\", \"ccomp\", \"use_ransac\", \"groups\", \"pipe\", \"param_grid\", \"outer_split\", \"scoring\"]\n",
    "\n",
    "dumbdb = dbm.dumb.open(outpath + \"/dataset\")\n",
    "dataset = shelve.Shelf(dumbdb)\n",
    "for key in vars_to_save:\n",
    "    try:\n",
    "        dataset[key] = globals()[key]\n",
    "        print('Shelved {0}'.format(key))\n",
    "    except TypeError:\n",
    "        #\n",
    "        # __builtins__, my_shelf, and imported modules can not be shelved.\n",
    "        #\n",
    "        print('ERROR shelving: {0}'.format(key))\n",
    "dataset.close()\n",
    "dumbdb.close()"
   ]
  },
  {
   "cell_type": "code",
   "execution_count": null,
   "metadata": {},
   "outputs": [],
   "source": [
    "from clock_utils import get_ncv_results, plot_ncv_results\n",
    "\n",
    "path = \"/gpfs/fs2/scratch/fmorandi/ChromAcc-clock/clocks/parallel/2023-03-11_19-47_crct_scram\"\n",
    "summary, preds, coefs = get_ncv_results(path, 11, save=True)\n",
    "plot_ncv_results(preds, savepath=path)"
   ]
  },
  {
   "cell_type": "code",
   "execution_count": null,
   "metadata": {},
   "outputs": [],
   "source": [
    "from clock_utils import get_ncv_results, plot_ncv_results\n",
    "\n",
    "path = \"/gpfs/fs2/scratch/fmorandi/ChromAcc-clock/clocks/parallel/2023-03-11_22-06_ccomp_crct_no_age\"\n",
    "summary, preds, coefs = get_ncv_results(path, 11, save=True)\n",
    "plot_ncv_results(preds, savepath=path)"
   ]
  },
  {
   "cell_type": "code",
   "execution_count": null,
   "metadata": {},
   "outputs": [],
   "source": [
    "from clock_utils import get_ncv_results, plot_ncv_results\n",
    "\n",
    "path = \"/gpfs/fs2/scratch/fmorandi/ChromAcc-clock/clocks/parallel/2023-03-13_13-55_ccomp_in_ncv\"\n",
    "summary, preds, coefs = get_ncv_results(path, 11, save=True)\n",
    "plot_ncv_results(preds, savepath=path)"
   ]
  },
  {
   "cell_type": "code",
   "execution_count": null,
   "metadata": {},
   "outputs": [],
   "source": [
    "path = \"/gpfs/fs2/scratch/fmorandi/ChromAcc-clock/clocks/parallel/2023-03-13_13-56_ccomp_none\"\n",
    "summary, preds, coefs = get_ncv_results(path, 11, save=True)\n",
    "plot_ncv_results(preds, savepath=path)"
   ]
  }
 ],
 "metadata": {
  "kernelspec": {
   "display_name": "Python 3 (custom)",
   "language": "python",
   "name": "condapython"
  },
  "language_info": {
   "codemirror_mode": {
    "name": "ipython",
    "version": 3
   },
   "file_extension": ".py",
   "mimetype": "text/x-python",
   "name": "python",
   "nbconvert_exporter": "python",
   "pygments_lexer": "ipython3",
   "version": "3.9.15"
  },
  "varInspector": {
   "cols": {
    "lenName": 16,
    "lenType": 16,
    "lenVar": 40
   },
   "kernels_config": {
    "python": {
     "delete_cmd_postfix": "",
     "delete_cmd_prefix": "del ",
     "library": "var_list.py",
     "varRefreshCmd": "print(var_dic_list())"
    },
    "r": {
     "delete_cmd_postfix": ") ",
     "delete_cmd_prefix": "rm(",
     "library": "var_list.r",
     "varRefreshCmd": "cat(var_dic_list()) "
    }
   },
   "types_to_exclude": [
    "module",
    "function",
    "builtin_function_or_method",
    "instance",
    "_Feature"
   ],
   "window_display": false
  }
 },
 "nbformat": 4,
 "nbformat_minor": 2
}
