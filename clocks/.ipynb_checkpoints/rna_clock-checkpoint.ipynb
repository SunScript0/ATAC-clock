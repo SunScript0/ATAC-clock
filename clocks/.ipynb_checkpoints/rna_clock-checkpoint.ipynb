{
 "cells": [
  {
   "cell_type": "code",
   "execution_count": 1,
   "metadata": {},
   "outputs": [],
   "source": [
    "import sys\n",
    "sys.path.append(\"../scripts\")\n",
    "import numpy as np\n",
    "import pandas as pd\n",
    "import matplotlib.pyplot as plt\n",
    "from clock_utils import make_groups\n",
    "\n",
    "%load_ext autoreload\n",
    "%autoreload 2\n",
    "\n",
    "basepath = \"../data/paper_data/\""
   ]
  },
  {
   "cell_type": "code",
   "execution_count": 2,
   "metadata": {},
   "outputs": [],
   "source": [
    "# Get preprocessed data\n",
    "atac = pd.read_csv(basepath + \"data_atac_tpm.tsv\", index_col=0, sep=\"\\t\")\n",
    "atac = atac.apply(np.log1p)\n",
    "rna = pd.read_csv(basepath + \"data_rna_tmm.tsv\", index_col=0, sep=\"\\t\")\n",
    "rna = rna.apply(np.log1p)\n",
    "\n",
    "meta = pd.read_csv(basepath + \"meta_final.tsv\", sep=\"\\t\")\n",
    "\n",
    "# Samples passing QC for both ATAC and RNA\n",
    "passing_qc = meta.loc[meta[\"PassesQC\"], \"Subject\"]\n",
    "\n",
    "atac = atac.loc[passing_qc, :]\n",
    "rna = rna.loc[passing_qc, :]\n",
    "meta = meta.set_index(\"Subject\", drop=False)\n",
    "labels = meta.loc[passing_qc, \"Age\"]\n",
    "\n",
    "groups = make_groups(11, labels)"
   ]
  },
  {
   "cell_type": "code",
   "execution_count": 3,
   "metadata": {},
   "outputs": [],
   "source": [
    "from sklearn.linear_model import ElasticNet\n",
    "from sklearn.pipeline import Pipeline\n",
    "\n",
    "pipes = list()\n",
    "\n",
    "# Model 1\n",
    "\n",
    "pipe = Pipeline(steps=[(\"regressor\", ElasticNet(max_iter=5000, tol=0.0005))])\n",
    "\n",
    "param_grid = dict()\n",
    "param_grid[\"regressor__alpha\"] = np.logspace(-4, 1, 30) #40\n",
    "param_grid[\"regressor__l1_ratio\"] = [0.7, 0.8, 0.9, 0.95, 0.99, 1]\n",
    "# param_grid[\"regressor__alpha\"] = np.logspace(-4, 1, 10) #40\n",
    "# param_grid[\"regressor__l1_ratio\"] = [0.95]"
   ]
  },
  {
   "cell_type": "code",
   "execution_count": 4,
   "metadata": {},
   "outputs": [],
   "source": [
    "from sklearn.model_selection import LeavePGroupsOut\n",
    "\n",
    "outer_groups_out = 1\n",
    "scoring = \"neg_median_absolute_error\"\n",
    "cv_outer = LeavePGroupsOut(outer_groups_out)\n",
    "outer_split = list(cv_outer.split(atac, labels, groups)) # Same as for rna (I checked)"
   ]
  },
  {
   "cell_type": "markdown",
   "metadata": {},
   "source": [
    "### Create separate folders for ATAC and RNA clocks ###"
   ]
  },
  {
   "cell_type": "code",
   "execution_count": 6,
   "metadata": {},
   "outputs": [
    {
     "ename": "AttributeError",
     "evalue": "module 'dbm' has no attribute 'dumb'",
     "output_type": "error",
     "traceback": [
      "\u001b[0;31m---------------------------------------------------------------------------\u001b[0m",
      "\u001b[0;31mAttributeError\u001b[0m                            Traceback (most recent call last)",
      "\u001b[0;32m<ipython-input-6-0e701e729789>\u001b[0m in \u001b[0;36m<module>\u001b[0;34m()\u001b[0m\n\u001b[1;32m      9\u001b[0m \u001b[0mvars_to_save\u001b[0m \u001b[0;34m=\u001b[0m \u001b[0;34m[\u001b[0m\u001b[0;34m\"data\"\u001b[0m\u001b[0;34m,\u001b[0m \u001b[0;34m\"labels\"\u001b[0m\u001b[0;34m,\u001b[0m \u001b[0;34m\"groups\"\u001b[0m\u001b[0;34m,\u001b[0m \u001b[0;34m\"pipe\"\u001b[0m\u001b[0;34m,\u001b[0m \u001b[0;34m\"param_grid\"\u001b[0m\u001b[0;34m,\u001b[0m \u001b[0;34m\"outer_split\"\u001b[0m\u001b[0;34m]\u001b[0m\u001b[0;34m\u001b[0m\u001b[0m\n\u001b[1;32m     10\u001b[0m \u001b[0;34m\u001b[0m\u001b[0m\n\u001b[0;32m---> 11\u001b[0;31m \u001b[0mdumbdb\u001b[0m \u001b[0;34m=\u001b[0m \u001b[0mdbm\u001b[0m\u001b[0;34m.\u001b[0m\u001b[0mdumb\u001b[0m\u001b[0;34m.\u001b[0m\u001b[0mopen\u001b[0m\u001b[0;34m(\u001b[0m\u001b[0moutpath\u001b[0m \u001b[0;34m+\u001b[0m \u001b[0;34m\"/dataset\"\u001b[0m\u001b[0;34m)\u001b[0m\u001b[0;34m\u001b[0m\u001b[0m\n\u001b[0m\u001b[1;32m     12\u001b[0m \u001b[0mdataset\u001b[0m \u001b[0;34m=\u001b[0m \u001b[0mshelve\u001b[0m\u001b[0;34m.\u001b[0m\u001b[0mShelf\u001b[0m\u001b[0;34m(\u001b[0m\u001b[0mdumbdb\u001b[0m\u001b[0;34m)\u001b[0m\u001b[0;34m\u001b[0m\u001b[0m\n\u001b[1;32m     13\u001b[0m \u001b[0;32mfor\u001b[0m \u001b[0mkey\u001b[0m \u001b[0;32min\u001b[0m \u001b[0mvars_to_save\u001b[0m\u001b[0;34m:\u001b[0m\u001b[0;34m\u001b[0m\u001b[0m\n",
      "\u001b[0;31mAttributeError\u001b[0m: module 'dbm' has no attribute 'dumb'"
     ]
    }
   ],
   "source": [
    "import shelve, os, dbm\n",
    "from datetime import datetime\n",
    "\n",
    "date = datetime.now().strftime(\"%Y-%m-%d_%H-%M\")\n",
    "outpath = \"../clocks/parallel/\" + date + \"_atac_vs_rna\"\n",
    "os.makedirs(outpath, exist_ok=True)\n",
    "\n",
    "data = atac\n",
    "vars_to_save = [\"data\", \"labels\", \"groups\", \"pipe\", \"param_grid\", \"outer_split\"]\n",
    "\n",
    "dumbdb = dbm.dumb.open(outpath + \"/dataset\")\n",
    "dataset = shelve.Shelf(dumbdb)\n",
    "for key in vars_to_save:\n",
    "    try:\n",
    "        dataset[key] = globals()[key]\n",
    "        print('Shelved {0}'.format(key))\n",
    "    except TypeError:\n",
    "        #\n",
    "        # __builtins__, my_shelf, and imported modules can not be shelved.\n",
    "        #\n",
    "        print('ERROR shelving: {0}'.format(key))\n",
    "dataset.close()\n",
    "dumbdb.close()"
   ]
  },
  {
   "cell_type": "code",
   "execution_count": 9,
   "metadata": {},
   "outputs": [
    {
     "name": "stdout",
     "output_type": "stream",
     "text": [
      "Shelved data\n",
      "Shelved labels\n",
      "Shelved groups\n",
      "Shelved pipe\n",
      "Shelved param_grid\n",
      "Shelved outer_split\n"
     ]
    }
   ],
   "source": [
    "date = datetime.now().strftime(\"%Y-%m-%d_%H-%M\")\n",
    "outpath = \"../clocks/parallel/\" + date + \"_rna_vs_atac\"\n",
    "os.makedirs(outpath, exist_ok=True)\n",
    "\n",
    "data = rna\n",
    "vars_to_save = [\"data\", \"labels\", \"groups\", \"pipe\", \"param_grid\", \"outer_split\"]\n",
    "\n",
    "dumbdb = dbm.dumb.open(outpath + \"/dataset\")\n",
    "dataset = shelve.Shelf(dumbdb)\n",
    "for key in vars_to_save:\n",
    "    try:\n",
    "        dataset[key] = globals()[key]\n",
    "        print('Shelved {0}'.format(key))\n",
    "    except TypeError:\n",
    "        #\n",
    "        # __builtins__, my_shelf, and imported modules can not be shelved.\n",
    "        #\n",
    "        print('ERROR shelving: {0}'.format(key))\n",
    "dataset.close()\n",
    "dumbdb.close()"
   ]
  }
 ],
 "metadata": {
  "kernelspec": {
   "display_name": "Python 3 (3.6.5)",
   "language": "python",
   "name": "python3"
  },
  "language_info": {
   "codemirror_mode": {
    "name": "ipython",
    "version": 3
   },
   "file_extension": ".py",
   "mimetype": "text/x-python",
   "name": "python",
   "nbconvert_exporter": "python",
   "pygments_lexer": "ipython3",
   "version": "3.6.5"
  },
  "varInspector": {
   "cols": {
    "lenName": 16,
    "lenType": 16,
    "lenVar": 40
   },
   "kernels_config": {
    "python": {
     "delete_cmd_postfix": "",
     "delete_cmd_prefix": "del ",
     "library": "var_list.py",
     "varRefreshCmd": "print(var_dic_list())"
    },
    "r": {
     "delete_cmd_postfix": ") ",
     "delete_cmd_prefix": "rm(",
     "library": "var_list.r",
     "varRefreshCmd": "cat(var_dic_list()) "
    }
   },
   "types_to_exclude": [
    "module",
    "function",
    "builtin_function_or_method",
    "instance",
    "_Feature"
   ],
   "window_display": false
  }
 },
 "nbformat": 4,
 "nbformat_minor": 5
}
